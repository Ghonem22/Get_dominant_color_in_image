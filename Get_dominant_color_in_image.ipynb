{
  "nbformat": 4,
  "nbformat_minor": 0,
  "metadata": {
    "colab": {
      "name": "Get_dominant_color_in_image.ipynb",
      "provenance": [],
      "collapsed_sections": [],
      "include_colab_link": true
    },
    "kernelspec": {
      "name": "python3",
      "display_name": "Python 3"
    },
    "language_info": {
      "name": "python"
    }
  },
  "cells": [
    {
      "cell_type": "markdown",
      "metadata": {
        "id": "view-in-github",
        "colab_type": "text"
      },
      "source": [
        "<a href=\"https://colab.research.google.com/github/Ghonem22/Get_dominant_color_in_image/blob/main/Get_dominant_color_in_image.ipynb\" target=\"_parent\"><img src=\"https://colab.research.google.com/assets/colab-badge.svg\" alt=\"Open In Colab\"/></a>"
      ]
    },
    {
      "cell_type": "code",
      "metadata": {
        "id": "x2gulMbVM4NS"
      },
      "source": [
        "import cv2\n",
        "import numpy as np\n",
        "import pandas as pd\n",
        "\n",
        "\n",
        "#Reading the image with opencv\n",
        "img = cv2.imread('/content/colorpic.jpg')\n"
      ],
      "execution_count": 100,
      "outputs": []
    },
    {
      "cell_type": "code",
      "metadata": {
        "id": "2fQLe4dFNB1X"
      },
      "source": [
        "#Reading csv file with pandas and giving names to each column\n",
        "index=[\"color\",\"color_name\",\"hex\",\"R\",\"G\",\"B\"]\n",
        "csv = pd.read_csv('colors.csv', names=index, header=None)\n"
      ],
      "execution_count": 101,
      "outputs": []
    },
    {
      "cell_type": "code",
      "metadata": {
        "colab": {
          "base_uri": "https://localhost:8080/",
          "height": 206
        },
        "id": "lWYBNMOg6l9E",
        "outputId": "fb8b7062-7354-4cf6-d714-7511229975b9"
      },
      "source": [
        "csv.head()"
      ],
      "execution_count": 102,
      "outputs": [
        {
          "output_type": "execute_result",
          "data": {
            "text/html": [
              "<div>\n",
              "<style scoped>\n",
              "    .dataframe tbody tr th:only-of-type {\n",
              "        vertical-align: middle;\n",
              "    }\n",
              "\n",
              "    .dataframe tbody tr th {\n",
              "        vertical-align: top;\n",
              "    }\n",
              "\n",
              "    .dataframe thead th {\n",
              "        text-align: right;\n",
              "    }\n",
              "</style>\n",
              "<table border=\"1\" class=\"dataframe\">\n",
              "  <thead>\n",
              "    <tr style=\"text-align: right;\">\n",
              "      <th></th>\n",
              "      <th>color</th>\n",
              "      <th>color_name</th>\n",
              "      <th>hex</th>\n",
              "      <th>R</th>\n",
              "      <th>G</th>\n",
              "      <th>B</th>\n",
              "    </tr>\n",
              "  </thead>\n",
              "  <tbody>\n",
              "    <tr>\n",
              "      <th>0</th>\n",
              "      <td>air_force_blue_raf</td>\n",
              "      <td>Air Force Blue (Raf)</td>\n",
              "      <td>#5d8aa8</td>\n",
              "      <td>93</td>\n",
              "      <td>138</td>\n",
              "      <td>168</td>\n",
              "    </tr>\n",
              "    <tr>\n",
              "      <th>1</th>\n",
              "      <td>air_force_blue_usaf</td>\n",
              "      <td>Air Force Blue (Usaf)</td>\n",
              "      <td>#00308f</td>\n",
              "      <td>0</td>\n",
              "      <td>48</td>\n",
              "      <td>143</td>\n",
              "    </tr>\n",
              "    <tr>\n",
              "      <th>2</th>\n",
              "      <td>air_superiority_blue</td>\n",
              "      <td>Air Superiority Blue</td>\n",
              "      <td>#72a0c1</td>\n",
              "      <td>114</td>\n",
              "      <td>160</td>\n",
              "      <td>193</td>\n",
              "    </tr>\n",
              "    <tr>\n",
              "      <th>3</th>\n",
              "      <td>alabama_crimson</td>\n",
              "      <td>Alabama Crimson</td>\n",
              "      <td>#a32638</td>\n",
              "      <td>163</td>\n",
              "      <td>38</td>\n",
              "      <td>56</td>\n",
              "    </tr>\n",
              "    <tr>\n",
              "      <th>4</th>\n",
              "      <td>alice_blue</td>\n",
              "      <td>Alice Blue</td>\n",
              "      <td>#f0f8ff</td>\n",
              "      <td>240</td>\n",
              "      <td>248</td>\n",
              "      <td>255</td>\n",
              "    </tr>\n",
              "  </tbody>\n",
              "</table>\n",
              "</div>"
            ],
            "text/plain": [
              "                  color             color_name      hex    R    G    B\n",
              "0    air_force_blue_raf   Air Force Blue (Raf)  #5d8aa8   93  138  168\n",
              "1   air_force_blue_usaf  Air Force Blue (Usaf)  #00308f    0   48  143\n",
              "2  air_superiority_blue   Air Superiority Blue  #72a0c1  114  160  193\n",
              "3       alabama_crimson        Alabama Crimson  #a32638  163   38   56\n",
              "4            alice_blue             Alice Blue  #f0f8ff  240  248  255"
            ]
          },
          "metadata": {},
          "execution_count": 102
        }
      ]
    },
    {
      "cell_type": "code",
      "metadata": {
        "colab": {
          "base_uri": "https://localhost:8080/"
        },
        "id": "x6X1EyzR1G7G",
        "outputId": "4eb73336-94c4-40cf-bb88-2c758a6a2491"
      },
      "source": [
        "# This script is used to convert any degree of primary color (color contains primary_colors in its name ) to primary color\n",
        "\n",
        "primary_colors = ['Blue', 'Orange', 'Green', 'White', 'Yellow', 'Grey', 'Pink', 'Red', 'Black', 'Blond', 'Violet', \n",
        "                  'Maroon', 'Rose', 'Brown']\n",
        "\n",
        "\n",
        "for j in range(len(csv['color_name'])-1):\n",
        "    for i in csv['color_name'][j].split(\" \"):\n",
        "        if i in primary_colors:\n",
        "            csv['color_name'][j] = i\n",
        "            continue\n"
      ],
      "execution_count": 103,
      "outputs": [
        {
          "output_type": "stream",
          "text": [
            "/usr/local/lib/python3.7/dist-packages/ipykernel_launcher.py:10: SettingWithCopyWarning: \n",
            "A value is trying to be set on a copy of a slice from a DataFrame\n",
            "\n",
            "See the caveats in the documentation: https://pandas.pydata.org/pandas-docs/stable/user_guide/indexing.html#returning-a-view-versus-a-copy\n",
            "  # Remove the CWD from sys.path while we load stuff.\n"
          ],
          "name": "stderr"
        }
      ]
    },
    {
      "cell_type": "code",
      "metadata": {
        "colab": {
          "base_uri": "https://localhost:8080/",
          "height": 206
        },
        "id": "ScfzZXhB1Csn",
        "outputId": "abe5cc87-1db0-4422-ee0f-ce6383ec950f"
      },
      "source": [
        "csv.head()"
      ],
      "execution_count": 104,
      "outputs": [
        {
          "output_type": "execute_result",
          "data": {
            "text/html": [
              "<div>\n",
              "<style scoped>\n",
              "    .dataframe tbody tr th:only-of-type {\n",
              "        vertical-align: middle;\n",
              "    }\n",
              "\n",
              "    .dataframe tbody tr th {\n",
              "        vertical-align: top;\n",
              "    }\n",
              "\n",
              "    .dataframe thead th {\n",
              "        text-align: right;\n",
              "    }\n",
              "</style>\n",
              "<table border=\"1\" class=\"dataframe\">\n",
              "  <thead>\n",
              "    <tr style=\"text-align: right;\">\n",
              "      <th></th>\n",
              "      <th>color</th>\n",
              "      <th>color_name</th>\n",
              "      <th>hex</th>\n",
              "      <th>R</th>\n",
              "      <th>G</th>\n",
              "      <th>B</th>\n",
              "    </tr>\n",
              "  </thead>\n",
              "  <tbody>\n",
              "    <tr>\n",
              "      <th>0</th>\n",
              "      <td>air_force_blue_raf</td>\n",
              "      <td>Blue</td>\n",
              "      <td>#5d8aa8</td>\n",
              "      <td>93</td>\n",
              "      <td>138</td>\n",
              "      <td>168</td>\n",
              "    </tr>\n",
              "    <tr>\n",
              "      <th>1</th>\n",
              "      <td>air_force_blue_usaf</td>\n",
              "      <td>Blue</td>\n",
              "      <td>#00308f</td>\n",
              "      <td>0</td>\n",
              "      <td>48</td>\n",
              "      <td>143</td>\n",
              "    </tr>\n",
              "    <tr>\n",
              "      <th>2</th>\n",
              "      <td>air_superiority_blue</td>\n",
              "      <td>Blue</td>\n",
              "      <td>#72a0c1</td>\n",
              "      <td>114</td>\n",
              "      <td>160</td>\n",
              "      <td>193</td>\n",
              "    </tr>\n",
              "    <tr>\n",
              "      <th>3</th>\n",
              "      <td>alabama_crimson</td>\n",
              "      <td>Alabama Crimson</td>\n",
              "      <td>#a32638</td>\n",
              "      <td>163</td>\n",
              "      <td>38</td>\n",
              "      <td>56</td>\n",
              "    </tr>\n",
              "    <tr>\n",
              "      <th>4</th>\n",
              "      <td>alice_blue</td>\n",
              "      <td>Blue</td>\n",
              "      <td>#f0f8ff</td>\n",
              "      <td>240</td>\n",
              "      <td>248</td>\n",
              "      <td>255</td>\n",
              "    </tr>\n",
              "  </tbody>\n",
              "</table>\n",
              "</div>"
            ],
            "text/plain": [
              "                  color       color_name      hex    R    G    B\n",
              "0    air_force_blue_raf             Blue  #5d8aa8   93  138  168\n",
              "1   air_force_blue_usaf             Blue  #00308f    0   48  143\n",
              "2  air_superiority_blue             Blue  #72a0c1  114  160  193\n",
              "3       alabama_crimson  Alabama Crimson  #a32638  163   38   56\n",
              "4            alice_blue             Blue  #f0f8ff  240  248  255"
            ]
          },
          "metadata": {},
          "execution_count": 104
        }
      ]
    },
    {
      "cell_type": "code",
      "metadata": {
        "id": "5pBIia8RNGqx"
      },
      "source": [
        "# to get the n dominant colors\n",
        "\n",
        "from PIL import Image\n",
        "\n",
        "#function to calculate minimum distance from all colors and get the most matching color\n",
        "def getColorName(R,G,B):\n",
        "    minimum = 10000\n",
        "    for i in range(len(csv)):\n",
        "        d = abs(R- int(csv.loc[i,\"R\"])) + abs(G- int(csv.loc[i,\"G\"]))+ abs(B- int(csv.loc[i,\"B\"]))\n",
        "        if(d<=minimum):\n",
        "            minimum = d\n",
        "            cname = csv.loc[i,\"color_name\"]\n",
        "    return cname\n",
        "\n",
        "def find_dominant_rgbs(filename):\n",
        "    #Resizing parameters\n",
        "    width, height = 150,150\n",
        "    image = Image.open(filename)\n",
        "    image = image.resize((width, height),resample = 0)\n",
        "    #Get colors from image object\n",
        "    pixels = image.getcolors(width * height)\n",
        "    #Sort them by count number(first element of tuple)\n",
        "    sorted_pixels = sorted(pixels, key=lambda t: t[0])\n",
        "    #Get the most frequent color\n",
        "    dominant_color = sorted_pixels[-1][1]\n",
        "    return sorted_pixels\n",
        "\n",
        "def get_dominant_colors(image_path, num_of_colors):\n",
        "    colors = []\n",
        "    dominant_rgbs = find_dominant_rgbs(image_path)\n",
        "    for i in range(len(dominant_rgbs[-num_of_colors:]) -1 ,-1,-1):\n",
        "        R,G,B = dominant_rgbs[-num_of_colors:][i][1]\n",
        "        color = getColorName(R,G,B)\n",
        "        colors.append(color)\n",
        "    return colors"
      ],
      "execution_count": 105,
      "outputs": []
    },
    {
      "cell_type": "code",
      "metadata": {
        "colab": {
          "base_uri": "https://localhost:8080/"
        },
        "id": "SEX4M3qD4ua5",
        "outputId": "3be65a33-7170-4ead-c254-3575c4693204"
      },
      "source": [
        "get_dominant_colors('/content/colorpic.jpg', 5)"
      ],
      "execution_count": 106,
      "outputs": [
        {
          "output_type": "execute_result",
          "data": {
            "text/plain": [
              "['Blue', 'Wenge', 'Blue', 'Blue', 'Wenge']"
            ]
          },
          "metadata": {},
          "execution_count": 106
        }
      ]
    },
    {
      "cell_type": "code",
      "metadata": {
        "id": "DqgrD5tK3a6Y"
      },
      "source": [
        "# to get the most dominant color\n",
        "\n",
        "from PIL import Image\n",
        "\n",
        "#function to calculate minimum distance from all colors and get the most matching color\n",
        "def getColorName(R,G,B):\n",
        "    minimum = 10000\n",
        "    for i in range(len(csv)):\n",
        "        d = abs(R- int(csv.loc[i,\"R\"])) + abs(G- int(csv.loc[i,\"G\"]))+ abs(B- int(csv.loc[i,\"B\"]))\n",
        "        if(d<=minimum):\n",
        "            minimum = d\n",
        "            cname = csv.loc[i,\"color_name\"]\n",
        "    return cname\n",
        "\n",
        "def find_dominant_rgb(filename):\n",
        "    #Resizing parameters\n",
        "    width, height = 150,150\n",
        "    image = Image.open(filename)\n",
        "    image = image.resize((width, height),resample = 0)\n",
        "    #Get colors from image object\n",
        "    pixels = image.getcolors(width * height)\n",
        "    #Sort them by count number(first element of tuple)\n",
        "    sorted_pixels = sorted(pixels, key=lambda t: t[0])\n",
        "    #Get the most frequent color\n",
        "    dominant_color = sorted_pixels[-1][1]\n",
        "    return dominant_color\n",
        "\n",
        "def get_dominant_color(image_path):\n",
        "    R,G,B = find_dominant_rgb(image_path)\n",
        "    color = getColorName(R,G,B)\n",
        "    return color"
      ],
      "execution_count": 107,
      "outputs": []
    },
    {
      "cell_type": "code",
      "metadata": {
        "id": "shdtzV-rVOXT",
        "colab": {
          "base_uri": "https://localhost:8080/",
          "height": 35
        },
        "outputId": "e144cecd-81da-4e1b-b74f-c2d67cac87ab"
      },
      "source": [
        "image_path = '/content/colorpic.jpg'\n",
        "get_dominant_color(image_path)"
      ],
      "execution_count": 109,
      "outputs": [
        {
          "output_type": "execute_result",
          "data": {
            "application/vnd.google.colaboratory.intrinsic+json": {
              "type": "string"
            },
            "text/plain": [
              "'Blue'"
            ]
          },
          "metadata": {},
          "execution_count": 109
        }
      ]
    },
    {
      "cell_type": "code",
      "metadata": {
        "id": "V7RwPqFaPtE7"
      },
      "source": [
        ""
      ],
      "execution_count": null,
      "outputs": []
    }
  ]
}