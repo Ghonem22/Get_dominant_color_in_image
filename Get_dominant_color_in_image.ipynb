{
  "nbformat": 4,
  "nbformat_minor": 0,
  "metadata": {
    "colab": {
      "name": "Get_dominant_color_in_image.ipynb",
      "provenance": [],
      "collapsed_sections": []
    },
    "kernelspec": {
      "name": "python3",
      "display_name": "Python 3"
    },
    "language_info": {
      "name": "python"
    }
  },
  "cells": [
    {
      "cell_type": "code",
      "metadata": {
        "colab": {
          "base_uri": "https://localhost:8080/"
        },
        "id": "T244a7lypBpN",
        "outputId": "f8b8fe20-06e1-4e03-9105-d992e04ab590"
      },
      "source": [
        "!git clone https://github.com/Ghonem22/Get_dominant_color_in_image.git"
      ],
      "execution_count": 1,
      "outputs": [
        {
          "output_type": "stream",
          "name": "stdout",
          "text": [
            "Cloning into 'Get_dominant_color_in_image'...\n",
            "remote: Enumerating objects: 19, done.\u001b[K\n",
            "remote: Counting objects: 100% (19/19), done.\u001b[K\n",
            "remote: Compressing objects: 100% (18/18), done.\u001b[K\n",
            "remote: Total 19 (delta 7), reused 0 (delta 0), pack-reused 0\u001b[K\n",
            "Unpacking objects: 100% (19/19), done.\n"
          ]
        }
      ]
    },
    {
      "cell_type": "code",
      "metadata": {
        "id": "-gPzVoOlpQqo"
      },
      "source": [
        "import cv2\n",
        "import numpy as np\n",
        "import pandas as pd"
      ],
      "execution_count": 2,
      "outputs": []
    },
    {
      "cell_type": "code",
      "metadata": {
        "colab": {
          "base_uri": "https://localhost:8080/"
        },
        "id": "67H4YNbMpFOg",
        "outputId": "75b4d035-06b2-4302-ed2f-3940636dd9a5"
      },
      "source": [
        "%cd /content/Get_dominant_color_in_image\n",
        "#Reading the image with opencv\n",
        "img = cv2.imread('colorpic.jpg')\n"
      ],
      "execution_count": 3,
      "outputs": [
        {
          "output_type": "stream",
          "name": "stdout",
          "text": [
            "/content/Get_dominant_color_in_image\n"
          ]
        }
      ]
    },
    {
      "cell_type": "code",
      "metadata": {
        "id": "2fQLe4dFNB1X",
        "colab": {
          "base_uri": "https://localhost:8080/",
          "height": 206
        },
        "outputId": "2b4824a6-a24c-4ad8-9a9e-297d2d7190a0"
      },
      "source": [
        "#Reading csv file with pandas and giving names to each column\n",
        "index=[\"color\",\"color_name\",\"hex\",\"R\",\"G\",\"B\"]\n",
        "csv = pd.read_csv('colors.csv', names=index, header=None)\n",
        "csv.head()"
      ],
      "execution_count": 4,
      "outputs": [
        {
          "output_type": "execute_result",
          "data": {
            "text/html": [
              "<div>\n",
              "<style scoped>\n",
              "    .dataframe tbody tr th:only-of-type {\n",
              "        vertical-align: middle;\n",
              "    }\n",
              "\n",
              "    .dataframe tbody tr th {\n",
              "        vertical-align: top;\n",
              "    }\n",
              "\n",
              "    .dataframe thead th {\n",
              "        text-align: right;\n",
              "    }\n",
              "</style>\n",
              "<table border=\"1\" class=\"dataframe\">\n",
              "  <thead>\n",
              "    <tr style=\"text-align: right;\">\n",
              "      <th></th>\n",
              "      <th>color</th>\n",
              "      <th>color_name</th>\n",
              "      <th>hex</th>\n",
              "      <th>R</th>\n",
              "      <th>G</th>\n",
              "      <th>B</th>\n",
              "    </tr>\n",
              "  </thead>\n",
              "  <tbody>\n",
              "    <tr>\n",
              "      <th>0</th>\n",
              "      <td>air_force_blue_raf</td>\n",
              "      <td>Air Force Blue (Raf)</td>\n",
              "      <td>#5d8aa8</td>\n",
              "      <td>93</td>\n",
              "      <td>138</td>\n",
              "      <td>168</td>\n",
              "    </tr>\n",
              "    <tr>\n",
              "      <th>1</th>\n",
              "      <td>air_force_blue_usaf</td>\n",
              "      <td>Air Force Blue (Usaf)</td>\n",
              "      <td>#00308f</td>\n",
              "      <td>0</td>\n",
              "      <td>48</td>\n",
              "      <td>143</td>\n",
              "    </tr>\n",
              "    <tr>\n",
              "      <th>2</th>\n",
              "      <td>air_superiority_blue</td>\n",
              "      <td>Air Superiority Blue</td>\n",
              "      <td>#72a0c1</td>\n",
              "      <td>114</td>\n",
              "      <td>160</td>\n",
              "      <td>193</td>\n",
              "    </tr>\n",
              "    <tr>\n",
              "      <th>3</th>\n",
              "      <td>alabama_crimson</td>\n",
              "      <td>Alabama Crimson</td>\n",
              "      <td>#a32638</td>\n",
              "      <td>163</td>\n",
              "      <td>38</td>\n",
              "      <td>56</td>\n",
              "    </tr>\n",
              "    <tr>\n",
              "      <th>4</th>\n",
              "      <td>alice_blue</td>\n",
              "      <td>Alice Blue</td>\n",
              "      <td>#f0f8ff</td>\n",
              "      <td>240</td>\n",
              "      <td>248</td>\n",
              "      <td>255</td>\n",
              "    </tr>\n",
              "  </tbody>\n",
              "</table>\n",
              "</div>"
            ],
            "text/plain": [
              "                  color             color_name      hex    R    G    B\n",
              "0    air_force_blue_raf   Air Force Blue (Raf)  #5d8aa8   93  138  168\n",
              "1   air_force_blue_usaf  Air Force Blue (Usaf)  #00308f    0   48  143\n",
              "2  air_superiority_blue   Air Superiority Blue  #72a0c1  114  160  193\n",
              "3       alabama_crimson        Alabama Crimson  #a32638  163   38   56\n",
              "4            alice_blue             Alice Blue  #f0f8ff  240  248  255"
            ]
          },
          "metadata": {},
          "execution_count": 4
        }
      ]
    },
    {
      "cell_type": "code",
      "metadata": {
        "colab": {
          "base_uri": "https://localhost:8080/"
        },
        "id": "x6X1EyzR1G7G",
        "outputId": "c8c8abec-21d5-4e37-a446-935a3cdb2525"
      },
      "source": [
        "# This script is used to convert any degree of primary color (color contains primary_colors in its name ) to primary color\n",
        "\n",
        "primary_colors = ['Blue', 'Orange', 'Green', 'White', 'Yellow', 'Grey', 'Pink', 'Red', 'Black', 'Blond', 'Violet', \n",
        "                  'Maroon', 'Rose', 'Brown', 'Crimson', 'Sienna', 'Magenta', 'Topaz', 'Gold', 'Maroon', 'Gray']\n",
        "\n",
        "\n",
        "for j in range(len(csv['color_name'])-1):\n",
        "    for i in csv['color_name'][j].split(\" \"):\n",
        "        if i in primary_colors:\n",
        "            csv['color_name'][j] = i\n",
        "            continue\n"
      ],
      "execution_count": 5,
      "outputs": [
        {
          "output_type": "stream",
          "name": "stderr",
          "text": [
            "/usr/local/lib/python3.7/dist-packages/ipykernel_launcher.py:10: SettingWithCopyWarning: \n",
            "A value is trying to be set on a copy of a slice from a DataFrame\n",
            "\n",
            "See the caveats in the documentation: https://pandas.pydata.org/pandas-docs/stable/user_guide/indexing.html#returning-a-view-versus-a-copy\n",
            "  # Remove the CWD from sys.path while we load stuff.\n"
          ]
        }
      ]
    },
    {
      "cell_type": "code",
      "metadata": {
        "colab": {
          "base_uri": "https://localhost:8080/",
          "height": 424
        },
        "id": "ScfzZXhB1Csn",
        "outputId": "0306052d-5463-4a8b-97bb-0da0995e91a3"
      },
      "source": [
        "csv.head(100)"
      ],
      "execution_count": 6,
      "outputs": [
        {
          "output_type": "execute_result",
          "data": {
            "text/html": [
              "<div>\n",
              "<style scoped>\n",
              "    .dataframe tbody tr th:only-of-type {\n",
              "        vertical-align: middle;\n",
              "    }\n",
              "\n",
              "    .dataframe tbody tr th {\n",
              "        vertical-align: top;\n",
              "    }\n",
              "\n",
              "    .dataframe thead th {\n",
              "        text-align: right;\n",
              "    }\n",
              "</style>\n",
              "<table border=\"1\" class=\"dataframe\">\n",
              "  <thead>\n",
              "    <tr style=\"text-align: right;\">\n",
              "      <th></th>\n",
              "      <th>color</th>\n",
              "      <th>color_name</th>\n",
              "      <th>hex</th>\n",
              "      <th>R</th>\n",
              "      <th>G</th>\n",
              "      <th>B</th>\n",
              "    </tr>\n",
              "  </thead>\n",
              "  <tbody>\n",
              "    <tr>\n",
              "      <th>0</th>\n",
              "      <td>air_force_blue_raf</td>\n",
              "      <td>Blue</td>\n",
              "      <td>#5d8aa8</td>\n",
              "      <td>93</td>\n",
              "      <td>138</td>\n",
              "      <td>168</td>\n",
              "    </tr>\n",
              "    <tr>\n",
              "      <th>1</th>\n",
              "      <td>air_force_blue_usaf</td>\n",
              "      <td>Blue</td>\n",
              "      <td>#00308f</td>\n",
              "      <td>0</td>\n",
              "      <td>48</td>\n",
              "      <td>143</td>\n",
              "    </tr>\n",
              "    <tr>\n",
              "      <th>2</th>\n",
              "      <td>air_superiority_blue</td>\n",
              "      <td>Blue</td>\n",
              "      <td>#72a0c1</td>\n",
              "      <td>114</td>\n",
              "      <td>160</td>\n",
              "      <td>193</td>\n",
              "    </tr>\n",
              "    <tr>\n",
              "      <th>3</th>\n",
              "      <td>alabama_crimson</td>\n",
              "      <td>Crimson</td>\n",
              "      <td>#a32638</td>\n",
              "      <td>163</td>\n",
              "      <td>38</td>\n",
              "      <td>56</td>\n",
              "    </tr>\n",
              "    <tr>\n",
              "      <th>4</th>\n",
              "      <td>alice_blue</td>\n",
              "      <td>Blue</td>\n",
              "      <td>#f0f8ff</td>\n",
              "      <td>240</td>\n",
              "      <td>248</td>\n",
              "      <td>255</td>\n",
              "    </tr>\n",
              "    <tr>\n",
              "      <th>...</th>\n",
              "      <td>...</td>\n",
              "      <td>...</td>\n",
              "      <td>...</td>\n",
              "      <td>...</td>\n",
              "      <td>...</td>\n",
              "      <td>...</td>\n",
              "    </tr>\n",
              "    <tr>\n",
              "      <th>95</th>\n",
              "      <td>brown_traditional</td>\n",
              "      <td>Brown</td>\n",
              "      <td>#964b00</td>\n",
              "      <td>150</td>\n",
              "      <td>75</td>\n",
              "      <td>0</td>\n",
              "    </tr>\n",
              "    <tr>\n",
              "      <th>96</th>\n",
              "      <td>brown_web</td>\n",
              "      <td>Brown</td>\n",
              "      <td>#a52a2a</td>\n",
              "      <td>165</td>\n",
              "      <td>42</td>\n",
              "      <td>42</td>\n",
              "    </tr>\n",
              "    <tr>\n",
              "      <th>97</th>\n",
              "      <td>bubble_gum</td>\n",
              "      <td>Bubble Gum</td>\n",
              "      <td>#ffc1cc</td>\n",
              "      <td>255</td>\n",
              "      <td>193</td>\n",
              "      <td>204</td>\n",
              "    </tr>\n",
              "    <tr>\n",
              "      <th>98</th>\n",
              "      <td>bubbles</td>\n",
              "      <td>Bubbles</td>\n",
              "      <td>#e7feff</td>\n",
              "      <td>231</td>\n",
              "      <td>254</td>\n",
              "      <td>255</td>\n",
              "    </tr>\n",
              "    <tr>\n",
              "      <th>99</th>\n",
              "      <td>buff</td>\n",
              "      <td>Buff</td>\n",
              "      <td>#f0dc82</td>\n",
              "      <td>240</td>\n",
              "      <td>220</td>\n",
              "      <td>130</td>\n",
              "    </tr>\n",
              "  </tbody>\n",
              "</table>\n",
              "<p>100 rows × 6 columns</p>\n",
              "</div>"
            ],
            "text/plain": [
              "                   color  color_name      hex    R    G    B\n",
              "0     air_force_blue_raf        Blue  #5d8aa8   93  138  168\n",
              "1    air_force_blue_usaf        Blue  #00308f    0   48  143\n",
              "2   air_superiority_blue        Blue  #72a0c1  114  160  193\n",
              "3        alabama_crimson     Crimson  #a32638  163   38   56\n",
              "4             alice_blue        Blue  #f0f8ff  240  248  255\n",
              "..                   ...         ...      ...  ...  ...  ...\n",
              "95     brown_traditional       Brown  #964b00  150   75    0\n",
              "96             brown_web       Brown  #a52a2a  165   42   42\n",
              "97            bubble_gum  Bubble Gum  #ffc1cc  255  193  204\n",
              "98               bubbles     Bubbles  #e7feff  231  254  255\n",
              "99                  buff        Buff  #f0dc82  240  220  130\n",
              "\n",
              "[100 rows x 6 columns]"
            ]
          },
          "metadata": {},
          "execution_count": 6
        }
      ]
    },
    {
      "cell_type": "code",
      "metadata": {
        "id": "5pBIia8RNGqx"
      },
      "source": [
        "# to get the n dominant colors\n",
        "\n",
        "from PIL import Image\n",
        "\n",
        "#function to calculate minimum distance from all colors and get the most matching color\n",
        "def getColorName(R,G,B):\n",
        "    minimum = 10000\n",
        "    for i in range(len(csv)):\n",
        "        d = abs(R- int(csv.loc[i,\"R\"])) + abs(G- int(csv.loc[i,\"G\"]))+ abs(B- int(csv.loc[i,\"B\"]))\n",
        "        if(d<=minimum):\n",
        "            minimum = d\n",
        "            cname = csv.loc[i,\"color_name\"]\n",
        "    return cname\n",
        "\n",
        "def find_dominant_rgbs(filename):\n",
        "    #Resizing parameters\n",
        "    width, height = 150,150\n",
        "    image = Image.open(filename)\n",
        "    image = image.resize((width, height),resample = 0)\n",
        "    #Get colors from image object\n",
        "    pixels = image.getcolors(width * height)\n",
        "    #Sort them by count number(first element of tuple)\n",
        "    sorted_pixels = sorted(pixels, key=lambda t: t[0])\n",
        "    #Get the most frequent color\n",
        "    dominant_color = sorted_pixels[-1][1]\n",
        "    return sorted_pixels\n",
        "\n",
        "def get_dominant_colors(image_path, num_of_colors):\n",
        "    colors = []\n",
        "    dominant_rgbs = find_dominant_rgbs(image_path)\n",
        "    for i in range(len(dominant_rgbs[-num_of_colors:]) -1 ,-1,-1):\n",
        "        R,G,B = dominant_rgbs[-num_of_colors:][i][1]\n",
        "        color = getColorName(R,G,B)\n",
        "        colors.append(color)\n",
        "    return colors"
      ],
      "execution_count": 15,
      "outputs": []
    },
    {
      "cell_type": "code",
      "metadata": {
        "id": "DqgrD5tK3a6Y"
      },
      "source": [
        "# to get the most dominant color\n",
        "\n",
        "from PIL import Image\n",
        "\n",
        "#function to calculate minimum distance from all colors and get the most matching color\n",
        "def getColorName(R,G,B):\n",
        "    minimum = 10000\n",
        "    for i in range(len(csv)):\n",
        "        d = abs(R- int(csv.loc[i,\"R\"])) + abs(G- int(csv.loc[i,\"G\"]))+ abs(B- int(csv.loc[i,\"B\"]))\n",
        "        if(d<=minimum):\n",
        "            minimum = d\n",
        "            cname = csv.loc[i,\"color_name\"]\n",
        "    return cname\n",
        "\n",
        "def find_dominant_rgb(filename):\n",
        "    #Resizing parameters\n",
        "    width, height = 150,150\n",
        "    image = Image.open(filename)\n",
        "    image = image.resize((width, height),resample = 0)\n",
        "    #Get colors from image object\n",
        "    pixels = image.getcolors(width * height)\n",
        "    #Sort them by count number(first element of tuple)\n",
        "    sorted_pixels = sorted(pixels, key=lambda t: t[0])\n",
        "    #Get the most frequent color\n",
        "    dominant_color = sorted_pixels[-1][1]\n",
        "    return dominant_color\n",
        "\n",
        "def get_dominant_color(image_path):\n",
        "    R,G,B = find_dominant_rgb(image_path)\n",
        "    color = getColorName(R,G,B)\n",
        "    return color"
      ],
      "execution_count": null,
      "outputs": []
    },
    {
      "cell_type": "code",
      "metadata": {
        "id": "shdtzV-rVOXT",
        "colab": {
          "base_uri": "https://localhost:8080/",
          "height": 35
        },
        "outputId": "e144cecd-81da-4e1b-b74f-c2d67cac87ab"
      },
      "source": [
        "image_path = '/content/colorpic.jpg'\n",
        "get_dominant_color(image_path)"
      ],
      "execution_count": null,
      "outputs": [
        {
          "output_type": "execute_result",
          "data": {
            "application/vnd.google.colaboratory.intrinsic+json": {
              "type": "string"
            },
            "text/plain": [
              "'Blue'"
            ]
          },
          "metadata": {},
          "execution_count": 109
        }
      ]
    },
    {
      "cell_type": "code",
      "metadata": {
        "id": "AptTA4uG4SPl"
      },
      "source": [
        "# to get the most dominant k color, slower but better accurcy\n",
        "\n",
        "from PIL import Image\n",
        "\n",
        "#function to calculate minimum distance from all colors and get the most matching color\n",
        "def getColorName(R,G,B):\n",
        "    minimum = 10000\n",
        "    for i in range(len(csv)):\n",
        "        d = abs(R- int(csv.loc[i,\"R\"])) + abs(G- int(csv.loc[i,\"G\"]))+ abs(B- int(csv.loc[i,\"B\"]))\n",
        "        if(d<=minimum):\n",
        "            minimum = d\n",
        "            cname = csv.loc[i,\"color_name\"]\n",
        "    return cname\n",
        "\n",
        "def find_dominant_rgb(filename):\n",
        "    #Resizing parameters\n",
        "    width, height = 150,150\n",
        "    image = Image.open(filename)\n",
        "    image = image.resize((width, height),resample = 0)\n",
        "    #Get colors from image object\n",
        "    pixels = image.getcolors(width * height)\n",
        "    #Sort them by count number(first element of tuple)\n",
        "    sorted_pixels = sorted(pixels, key=lambda t: t[0])\n",
        "    #Get the most frequent color\n",
        "    dominant_color = sorted_pixels[-1][1]\n",
        "    return sorted_pixels\n",
        "\n",
        "\n",
        "# num_of_top_colors is the top k colors that appeared in the image\n",
        "# num_pixels is the num of colors that the code will check and add similarities together, \n",
        "        # the higher, the better, but it will take more time, 50 is good default\n",
        "# \n",
        "def get_color(image_path, num_of_top_colors = 3, num_pixels_colors = 50):\n",
        "    sorted_pixels = find_dominant_rgb(image_path)\n",
        "\n",
        "    # create a dic with indivdual colors and combine similarities\n",
        "    colors = {}\n",
        "    for i in range(num_pixels_colors):\n",
        "        R,G,B = sorted_pixels[-i-1][1]\n",
        "        color = getColorName(R,G,B)\n",
        "\n",
        "        if color  in list(colors.keys()):\n",
        "            colors[color] += sorted_pixels[-i-1][0]\n",
        "        else:\n",
        "            colors[color] = sorted_pixels[-i-1][0]\n",
        "\n",
        "\n",
        "\n",
        "\n",
        "    colors = sorted(colors, key=colors.get, reverse=True)[:num_of_top_colors]\n",
        "    return colors"
      ],
      "execution_count": 43,
      "outputs": []
    },
    {
      "cell_type": "code",
      "metadata": {
        "colab": {
          "base_uri": "https://localhost:8080/"
        },
        "id": "a3xSnWYBti2H",
        "outputId": "bdfc00aa-95a6-46e0-9007-da1eb84f83a3"
      },
      "source": [
        "image_path = '/content/Get_dominant_color_in_image/ba7c3360-bd2c-465d-9404-d9be102ce75e.jpg'\n",
        "colors = get_color(image_path, 10)\n",
        "colors"
      ],
      "execution_count": 53,
      "outputs": [
        {
          "output_type": "execute_result",
          "data": {
            "text/plain": [
              "['Black',\n",
              " 'Jet',\n",
              " 'Onyx',\n",
              " 'Green',\n",
              " 'Grullo',\n",
              " 'Coffee',\n",
              " 'Cinereous',\n",
              " 'Grey',\n",
              " 'Gray',\n",
              " 'Brown']"
            ]
          },
          "metadata": {},
          "execution_count": 53
        }
      ]
    },
    {
      "cell_type": "markdown",
      "metadata": {
        "id": "3TMjCZ7S-DA3"
      },
      "source": [
        "future work\n",
        "\n",
        "calc the ratio between the most dominant color or k colors and the rest colors or rest dominant k colors"
      ]
    },
    {
      "cell_type": "code",
      "metadata": {
        "id": "1FXSIxp392jb"
      },
      "source": [
        ""
      ],
      "execution_count": null,
      "outputs": []
    }
  ]
}